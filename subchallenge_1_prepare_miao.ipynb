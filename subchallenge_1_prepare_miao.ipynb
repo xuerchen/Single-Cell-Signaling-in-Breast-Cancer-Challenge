{
 "cells": [
  {
   "cell_type": "code",
   "execution_count": 1,
   "metadata": {},
   "outputs": [],
   "source": [
    "import os\n",
    "GPU_id = 7\n",
    "os.environ['CUDA_VISIBLE_DEVICES'] = str(GPU_id)"
   ]
  },
  {
   "cell_type": "code",
   "execution_count": 2,
   "metadata": {},
   "outputs": [
    {
     "name": "stdout",
     "output_type": "stream",
     "text": [
      "0.9.0\n"
     ]
    }
   ],
   "source": [
    "import warnings\n",
    "warnings.filterwarnings(\"ignore\")\n",
    "\n",
    "from pathlib import Path\n",
    "Path.ls = lambda x: list(x.iterdir())\n",
    "\n",
    "import cudf as gd\n",
    "import nvstrings\n",
    "\n",
    "from tqdm import tqdm\n",
    "from collections import defaultdict\n",
    "import pandas as pd\n",
    "import numpy as np\n",
    "import time\n",
    "import pickle\n",
    "\n",
    "print(gd.__version__)"
   ]
  },
  {
   "cell_type": "markdown",
   "metadata": {},
   "source": [
    "### Functions"
   ]
  },
  {
   "cell_type": "code",
   "execution_count": 3,
   "metadata": {},
   "outputs": [],
   "source": [
    "cat_cols = ['treatment','cell_line']\n",
    "int_cols = ['cellID','fileID']\n",
    "\n",
    "def read_cell_line(path):\n",
    "    df = gd.read_csv(path)\n",
    "    float_cols = [i for i in df.columns if i not in cat_cols+int_cols]\n",
    "    for i in int_cols:\n",
    "        df[i] = df[i].astype('int32')\n",
    "    \n",
    "    for i in float_cols:\n",
    "        if df[i].dtype == 'O':\n",
    "            df.loc[df[i]=='NA',i] = None\n",
    "        df[i] = df[i].astype('float32')\n",
    "    return df"
   ]
  },
  {
   "cell_type": "code",
   "execution_count": 4,
   "metadata": {},
   "outputs": [],
   "source": [
    "def read_all_cell_lines(path):\n",
    "    dfs = []\n",
    "    path = path/'single_cell_phospo'\n",
    "    paths = list((path/'subchallenge_1').ls())+list((path/'complete_cell_lines').ls())\n",
    "    for i in tqdm(paths,total=len(paths)):\n",
    "        df = read_cell_line(i)\n",
    "        dfs.append(df)\n",
    "    \n",
    "    df = gd.concat(dfs)\n",
    "    del dfs\n",
    "    return df"
   ]
  },
  {
   "cell_type": "markdown",
   "metadata": {},
   "source": [
    "### Feature engineering"
   ]
  },
  {
   "cell_type": "code",
   "execution_count": 5,
   "metadata": {},
   "outputs": [
    {
     "data": {
      "text/plain": [
       "[PosixPath('/raid/data/ml/dream/single_cell_breast_cancer/prediction_template'),\n",
       " PosixPath('/raid/data/ml/dream/single_cell_breast_cancer/output'),\n",
       " PosixPath('/raid/data/ml/dream/single_cell_breast_cancer/transcriptomics_genomics'),\n",
       " PosixPath('/raid/data/ml/dream/single_cell_breast_cancer/proteomics'),\n",
       " PosixPath('/raid/data/ml/dream/single_cell_breast_cancer/cache'),\n",
       " PosixPath('/raid/data/ml/dream/single_cell_breast_cancer/FileID_table.csv'),\n",
       " PosixPath('/raid/data/ml/dream/single_cell_breast_cancer/Antibody_table.csv'),\n",
       " PosixPath('/raid/data/ml/dream/single_cell_breast_cancer/backup'),\n",
       " PosixPath('/raid/data/ml/dream/single_cell_breast_cancer/single_cell_phospo'),\n",
       " PosixPath('/raid/data/ml/dream/single_cell_breast_cancer/CellLines.csv'),\n",
       " PosixPath('/raid/data/ml/dream/single_cell_breast_cancer/median_phospho')]"
      ]
     },
     "execution_count": 5,
     "metadata": {},
     "output_type": "execute_result"
    }
   ],
   "source": [
    "path = Path('/raid/data/ml/dream/single_cell_breast_cancer')\n",
    "path.ls()"
   ]
  },
  {
   "cell_type": "code",
   "execution_count": 6,
   "metadata": {},
   "outputs": [
    {
     "name": "stderr",
     "output_type": "stream",
     "text": [
      "100%|██████████| 50/50 [00:17<00:00,  3.31it/s]\n"
     ]
    },
    {
     "name": "stdout",
     "output_type": "stream",
     "text": [
      "(19509387, 42)\n",
      "CPU times: user 11.8 s, sys: 7.22 s, total: 19 s\n",
      "Wall time: 19.2 s\n"
     ]
    },
    {
     "data": {
      "text/html": [
       "<div>\n",
       "<style scoped>\n",
       "    .dataframe tbody tr th:only-of-type {\n",
       "        vertical-align: middle;\n",
       "    }\n",
       "\n",
       "    .dataframe tbody tr th {\n",
       "        vertical-align: top;\n",
       "    }\n",
       "\n",
       "    .dataframe thead th {\n",
       "        text-align: right;\n",
       "    }\n",
       "</style>\n",
       "<table border=\"1\" class=\"dataframe\">\n",
       "  <thead>\n",
       "    <tr style=\"text-align: right;\">\n",
       "      <th></th>\n",
       "      <th>treatment</th>\n",
       "      <th>cell_line</th>\n",
       "      <th>time</th>\n",
       "      <th>cellID</th>\n",
       "      <th>fileID</th>\n",
       "      <th>b.CATENIN</th>\n",
       "      <th>cleavedCas</th>\n",
       "      <th>CyclinB</th>\n",
       "      <th>GAPDH</th>\n",
       "      <th>IdU</th>\n",
       "      <th>...</th>\n",
       "      <th>p.PDPK1</th>\n",
       "      <th>p.PLCg2</th>\n",
       "      <th>p.RB</th>\n",
       "      <th>p.S6</th>\n",
       "      <th>p.S6K</th>\n",
       "      <th>p.SMAD23</th>\n",
       "      <th>p.SRC</th>\n",
       "      <th>p.STAT1</th>\n",
       "      <th>p.STAT3</th>\n",
       "      <th>p.STAT5</th>\n",
       "    </tr>\n",
       "  </thead>\n",
       "  <tbody>\n",
       "    <tr>\n",
       "      <th>0</th>\n",
       "      <td>EGF</td>\n",
       "      <td>LY2</td>\n",
       "      <td>0.0</td>\n",
       "      <td>1</td>\n",
       "      <td>1600</td>\n",
       "      <td>1.695869</td>\n",
       "      <td>2.479688</td>\n",
       "      <td>2.46698</td>\n",
       "      <td>1.721575</td>\n",
       "      <td>4.25020</td>\n",
       "      <td>...</td>\n",
       "      <td>2.077780</td>\n",
       "      <td>NaN</td>\n",
       "      <td>4.11024</td>\n",
       "      <td>NaN</td>\n",
       "      <td>2.483872</td>\n",
       "      <td>2.419281</td>\n",
       "      <td>2.159551</td>\n",
       "      <td>1.435568</td>\n",
       "      <td>0.652426</td>\n",
       "      <td>1.733380</td>\n",
       "    </tr>\n",
       "    <tr>\n",
       "      <th>1</th>\n",
       "      <td>EGF</td>\n",
       "      <td>LY2</td>\n",
       "      <td>0.0</td>\n",
       "      <td>1</td>\n",
       "      <td>1662</td>\n",
       "      <td>0.252953</td>\n",
       "      <td>2.012776</td>\n",
       "      <td>1.20489</td>\n",
       "      <td>1.913279</td>\n",
       "      <td>4.78735</td>\n",
       "      <td>...</td>\n",
       "      <td>1.575423</td>\n",
       "      <td>NaN</td>\n",
       "      <td>6.12789</td>\n",
       "      <td>NaN</td>\n",
       "      <td>2.124639</td>\n",
       "      <td>0.551474</td>\n",
       "      <td>2.361749</td>\n",
       "      <td>2.315083</td>\n",
       "      <td>0.652426</td>\n",
       "      <td>2.344840</td>\n",
       "    </tr>\n",
       "    <tr>\n",
       "      <th>2</th>\n",
       "      <td>EGF</td>\n",
       "      <td>LY2</td>\n",
       "      <td>0.0</td>\n",
       "      <td>2</td>\n",
       "      <td>1600</td>\n",
       "      <td>0.224784</td>\n",
       "      <td>2.381034</td>\n",
       "      <td>1.57411</td>\n",
       "      <td>1.282657</td>\n",
       "      <td>5.28419</td>\n",
       "      <td>...</td>\n",
       "      <td>1.087352</td>\n",
       "      <td>NaN</td>\n",
       "      <td>2.94259</td>\n",
       "      <td>NaN</td>\n",
       "      <td>1.676179</td>\n",
       "      <td>0.551474</td>\n",
       "      <td>2.941293</td>\n",
       "      <td>2.896088</td>\n",
       "      <td>0.841045</td>\n",
       "      <td>1.511762</td>\n",
       "    </tr>\n",
       "    <tr>\n",
       "      <th>3</th>\n",
       "      <td>EGF</td>\n",
       "      <td>LY2</td>\n",
       "      <td>0.0</td>\n",
       "      <td>2</td>\n",
       "      <td>1662</td>\n",
       "      <td>2.473927</td>\n",
       "      <td>3.579243</td>\n",
       "      <td>2.09122</td>\n",
       "      <td>3.386645</td>\n",
       "      <td>4.97592</td>\n",
       "      <td>...</td>\n",
       "      <td>3.218199</td>\n",
       "      <td>NaN</td>\n",
       "      <td>7.71275</td>\n",
       "      <td>NaN</td>\n",
       "      <td>2.841005</td>\n",
       "      <td>1.807767</td>\n",
       "      <td>2.803607</td>\n",
       "      <td>3.118700</td>\n",
       "      <td>2.300759</td>\n",
       "      <td>2.503745</td>\n",
       "    </tr>\n",
       "    <tr>\n",
       "      <th>4</th>\n",
       "      <td>EGF</td>\n",
       "      <td>LY2</td>\n",
       "      <td>0.0</td>\n",
       "      <td>3</td>\n",
       "      <td>1600</td>\n",
       "      <td>0.224784</td>\n",
       "      <td>1.429828</td>\n",
       "      <td>1.20489</td>\n",
       "      <td>1.809322</td>\n",
       "      <td>4.25020</td>\n",
       "      <td>...</td>\n",
       "      <td>0.754511</td>\n",
       "      <td>NaN</td>\n",
       "      <td>4.41040</td>\n",
       "      <td>NaN</td>\n",
       "      <td>1.727790</td>\n",
       "      <td>1.294836</td>\n",
       "      <td>2.339936</td>\n",
       "      <td>2.009363</td>\n",
       "      <td>0.652426</td>\n",
       "      <td>1.875179</td>\n",
       "    </tr>\n",
       "  </tbody>\n",
       "</table>\n",
       "<p>5 rows × 42 columns</p>\n",
       "</div>"
      ],
      "text/plain": [
       "  treatment cell_line  time  cellID  fileID  b.CATENIN  cleavedCas  CyclinB  \\\n",
       "0       EGF       LY2   0.0       1    1600   1.695869    2.479688  2.46698   \n",
       "1       EGF       LY2   0.0       1    1662   0.252953    2.012776  1.20489   \n",
       "2       EGF       LY2   0.0       2    1600   0.224784    2.381034  1.57411   \n",
       "3       EGF       LY2   0.0       2    1662   2.473927    3.579243  2.09122   \n",
       "4       EGF       LY2   0.0       3    1600   0.224784    1.429828  1.20489   \n",
       "\n",
       "      GAPDH      IdU  ...   p.PDPK1  p.PLCg2     p.RB  p.S6     p.S6K  \\\n",
       "0  1.721575  4.25020  ...  2.077780      NaN  4.11024   NaN  2.483872   \n",
       "1  1.913279  4.78735  ...  1.575423      NaN  6.12789   NaN  2.124639   \n",
       "2  1.282657  5.28419  ...  1.087352      NaN  2.94259   NaN  1.676179   \n",
       "3  3.386645  4.97592  ...  3.218199      NaN  7.71275   NaN  2.841005   \n",
       "4  1.809322  4.25020  ...  0.754511      NaN  4.41040   NaN  1.727790   \n",
       "\n",
       "   p.SMAD23     p.SRC   p.STAT1   p.STAT3   p.STAT5  \n",
       "0  2.419281  2.159551  1.435568  0.652426  1.733380  \n",
       "1  0.551474  2.361749  2.315083  0.652426  2.344840  \n",
       "2  0.551474  2.941293  2.896088  0.841045  1.511762  \n",
       "3  1.807767  2.803607  3.118700  2.300759  2.503745  \n",
       "4  1.294836  2.339936  2.009363  0.652426  1.875179  \n",
       "\n",
       "[5 rows x 42 columns]"
      ]
     },
     "execution_count": 6,
     "metadata": {},
     "output_type": "execute_result"
    }
   ],
   "source": [
    "%%time\n",
    "df = read_all_cell_lines(path)\n",
    "print(df.shape)\n",
    "df.head().to_pandas()"
   ]
  },
  {
   "cell_type": "code",
   "execution_count": 7,
   "metadata": {},
   "outputs": [
    {
     "name": "stdout",
     "output_type": "stream",
     "text": [
      "(19509387, 42)\n",
      "CPU times: user 1.26 s, sys: 580 ms, total: 1.84 s\n",
      "Wall time: 1.84 s\n"
     ]
    },
    {
     "data": {
      "text/plain": [
       "{'treatment': {'EGF': 0,\n",
       "  'full': 1,\n",
       "  'iEGFR': 2,\n",
       "  'iMEK': 3,\n",
       "  'iPI3K': 4,\n",
       "  'iPKC': 5},\n",
       " 'cell_line': {'184A1': 0,\n",
       "  'AU565': 1,\n",
       "  'BT20': 2,\n",
       "  'BT474': 3,\n",
       "  'BT549': 4,\n",
       "  'CAL148': 5,\n",
       "  'CAL51': 6,\n",
       "  'CAL851': 7,\n",
       "  'DU4475': 8,\n",
       "  'EFM19': 9,\n",
       "  'EFM192A': 10,\n",
       "  'EVSAT': 11,\n",
       "  'HBL100': 12,\n",
       "  'HCC1187': 13,\n",
       "  'HCC1395': 14,\n",
       "  'HCC1419': 15,\n",
       "  'HCC1500': 16,\n",
       "  'HCC1569': 17,\n",
       "  'HCC1599': 18,\n",
       "  'HCC1937': 19,\n",
       "  'HCC1954': 20,\n",
       "  'HCC2157': 21,\n",
       "  'HCC2185': 22,\n",
       "  'HCC2218': 23,\n",
       "  'HCC3153': 24,\n",
       "  'HCC38': 25,\n",
       "  'HCC70': 26,\n",
       "  'HDQP1': 27,\n",
       "  'JIMT1': 28,\n",
       "  'LY2': 29,\n",
       "  'MACLS2': 30,\n",
       "  'MCF10A': 31,\n",
       "  'MCF10F': 32,\n",
       "  'MCF7': 33,\n",
       "  'MDAMB134VI': 34,\n",
       "  'MDAMB157': 35,\n",
       "  'MDAMB175VII': 36,\n",
       "  'MDAMB361': 37,\n",
       "  'MDAMB415': 38,\n",
       "  'MDAMB436': 39,\n",
       "  'MDAMB453': 40,\n",
       "  'MDAkb2': 41,\n",
       "  'MFM223': 42,\n",
       "  'MPE600': 43,\n",
       "  'MX1': 44,\n",
       "  'OCUBM': 45,\n",
       "  'T47D': 46,\n",
       "  'UACC812': 47,\n",
       "  'UACC893': 48,\n",
       "  'ZR7530': 49},\n",
       " 'time': {0.0: 0,\n",
       "  5.5: 1,\n",
       "  7.0: 2,\n",
       "  9.0: 3,\n",
       "  12.0: 4,\n",
       "  13.0: 5,\n",
       "  14.0: 6,\n",
       "  15.0: 7,\n",
       "  16.0: 8,\n",
       "  17.0: 9,\n",
       "  18.0: 10,\n",
       "  23.0: 11,\n",
       "  25.0: 12,\n",
       "  30.0: 13,\n",
       "  35.0: 14,\n",
       "  40.0: 15,\n",
       "  60.0: 16}}"
      ]
     },
     "execution_count": 7,
     "metadata": {},
     "output_type": "execute_result"
    }
   ],
   "source": [
    "%%time\n",
    "str_map = {}\n",
    "for col in cat_cols+['time']:\n",
    "    df[col],cat = df[col].factorize()\n",
    "    str_map[col] = {i:c for c,i in enumerate(cat)}\n",
    "print(df.shape)\n",
    "str_map"
   ]
  },
  {
   "cell_type": "code",
   "execution_count": 8,
   "metadata": {},
   "outputs": [
    {
     "data": {
      "text/plain": [
       "Index(['treatment', 'cell_line', 'time', 'cellID', 'fileID', 'b.CATENIN',\n",
       "       'cleavedCas', 'CyclinB', 'GAPDH', 'IdU', 'Ki.67', 'p.4EBP1',\n",
       "       'p.Akt.Ser473.', 'p.AKT.Thr308.', 'p.AMPK', 'p.BTK', 'p.CREB', 'p.ERK',\n",
       "       'p.FAK', 'p.GSK3b', 'p.H3', 'p.HER2', 'p.JNK', 'p.MAP2K3', 'p.MAPKAPK2',\n",
       "       'p.MEK', 'p.MKK3.MKK6', 'p.MKK4', 'p.NFkB', 'p.p38', 'p.p53',\n",
       "       'p.p90RSK', 'p.PDPK1', 'p.PLCg2', 'p.RB', 'p.S6', 'p.S6K', 'p.SMAD23',\n",
       "       'p.SRC', 'p.STAT1', 'p.STAT3', 'p.STAT5'],\n",
       "      dtype='object')"
      ]
     },
     "execution_count": 8,
     "metadata": {},
     "output_type": "execute_result"
    }
   ],
   "source": [
    "df.columns"
   ]
  },
  {
   "cell_type": "markdown",
   "metadata": {},
   "source": [
    "### Reorder columns"
   ]
  },
  {
   "cell_type": "code",
   "execution_count": 9,
   "metadata": {},
   "outputs": [
    {
     "name": "stdout",
     "output_type": "stream",
     "text": [
      "(19509387, 42)\n",
      "(19509387, 42)\n"
     ]
    },
    {
     "data": {
      "text/plain": [
       "Index(['treatment', 'cell_line', 'time', 'cellID', 'fileID', 'p.GSK3b',\n",
       "       'p.MAPKAPK2', 'p.BTK', 'p.Akt.Ser473.', 'p.ERK', 'p.HER2', 'p.PLCg2',\n",
       "       'p.S6', 'b.CATENIN', 'cleavedCas', 'CyclinB', 'GAPDH', 'IdU', 'Ki.67',\n",
       "       'p.4EBP1', 'p.AKT.Thr308.', 'p.AMPK', 'p.CREB', 'p.FAK', 'p.H3',\n",
       "       'p.JNK', 'p.MAP2K3', 'p.MEK', 'p.MKK3.MKK6', 'p.MKK4', 'p.NFkB',\n",
       "       'p.p38', 'p.p53', 'p.p90RSK', 'p.PDPK1', 'p.RB', 'p.S6K', 'p.SMAD23',\n",
       "       'p.SRC', 'p.STAT1', 'p.STAT3', 'p.STAT5'],\n",
       "      dtype='object')"
      ]
     },
     "execution_count": 9,
     "metadata": {},
     "output_type": "execute_result"
    }
   ],
   "source": [
    "print(df.shape)\n",
    "test_markers = [\"p.Akt.Ser473.\", \"p.ERK\",  \"p.HER2\", \"p.PLCg2\",\"p.S6\"]\n",
    "valid_markers = ['p.GSK3b','p.MAPKAPK2','p.BTK']\n",
    "cols = ['treatment','cell_line','time','cellID','fileID']\n",
    "markers = valid_markers+test_markers + [i for i in df.columns if i not in cols+valid_markers+test_markers]\n",
    "df = df[cols+markers]\n",
    "print(df.shape)\n",
    "df.columns"
   ]
  },
  {
   "cell_type": "code",
   "execution_count": 10,
   "metadata": {},
   "outputs": [
    {
     "name": "stdout",
     "output_type": "stream",
     "text": [
      "CPU times: user 1.32 s, sys: 2.51 s, total: 3.84 s\n",
      "Wall time: 3.84 s\n"
     ]
    }
   ],
   "source": [
    "%%time\n",
    "pdf = df.to_pandas()\n",
    "del df"
   ]
  },
  {
   "cell_type": "markdown",
   "metadata": {},
   "source": [
    "### Train, valid, test split"
   ]
  },
  {
   "cell_type": "code",
   "execution_count": 11,
   "metadata": {},
   "outputs": [],
   "source": [
    "test_cell_lines = [i.split('.')[0] for i in os.listdir(path/'single_cell_phospo/subchallenge_1')]\n",
    "test_cell_lines_hash = [str_map['cell_line'][i] for i in test_cell_lines]\n",
    "\n",
    "valid_cell_lines = ['MPE600','BT474','HCC2185','MCF7','184A1','BT549']\n",
    "valid_cell_lines_hash = [str_map['cell_line'][i] for i in valid_cell_lines]\n",
    "\n",
    "mask_valid = (pdf.cell_line.isin(valid_cell_lines_hash))\n",
    "mask_test = (pdf.cell_line.isin(test_cell_lines_hash))\n",
    "\n",
    "pdf['is_va'] = 0\n",
    "pdf.loc[mask_valid,'is_va']=1\n",
    "pdf.loc[mask_test,'is_va']=1\n",
    "\n",
    "mask_train = ~(mask_valid|mask_test)\n",
    "\n",
    "train = pdf.loc[mask_train].dropna(subset=markers)\n",
    "valid = pdf.loc[mask_valid].dropna(subset=markers)\n",
    "\n",
    "\n",
    "str_map['num'] = {'train':train.shape[0],\n",
    "                  'valid':valid.shape[0],\n",
    "                  'test':mask_test.sum()}\n",
    "\n",
    "pdf = pd.concat([train, valid, pdf.loc[mask_test]],axis=0).reset_index(drop=True)"
   ]
  },
  {
   "cell_type": "code",
   "execution_count": 12,
   "metadata": {},
   "outputs": [
    {
     "name": "stdout",
     "output_type": "stream",
     "text": [
      "CPU times: user 964 ms, sys: 3.76 s, total: 4.72 s\n",
      "Wall time: 5.82 s\n"
     ]
    }
   ],
   "source": [
    "%%time\n",
    "path = str(path)\n",
    "pdf.to_pickle('%s/cache/miao.pickle'%path)\n",
    "pickle.dump(str_map,open('%s/cache/miao_map.pickle'%path,'wb'))"
   ]
  },
  {
   "cell_type": "code",
   "execution_count": 13,
   "metadata": {},
   "outputs": [
    {
     "data": {
      "text/plain": [
       "(13405399, 43)"
      ]
     },
     "execution_count": 13,
     "metadata": {},
     "output_type": "execute_result"
    }
   ],
   "source": [
    "pdf.shape"
   ]
  },
  {
   "cell_type": "code",
   "execution_count": null,
   "metadata": {},
   "outputs": [],
   "source": []
  }
 ],
 "metadata": {
  "kernelspec": {
   "display_name": "Python 3",
   "language": "python",
   "name": "python3"
  },
  "language_info": {
   "codemirror_mode": {
    "name": "ipython",
    "version": 3
   },
   "file_extension": ".py",
   "mimetype": "text/x-python",
   "name": "python",
   "nbconvert_exporter": "python",
   "pygments_lexer": "ipython3",
   "version": "3.7.5"
  }
 },
 "nbformat": 4,
 "nbformat_minor": 2
}
